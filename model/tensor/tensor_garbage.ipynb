{
 "cells": [
  {
   "cell_type": "markdown",
   "metadata": {},
   "source": [
    "vgg + adam 모델 튜닝    - 오늘 5시 50분\n",
    "\n",
    "모델 붙이기             - 내일 오전    ==> 디코딩 구현, //test data 출력//\n",
    "\n",
    "ppt 자료, 발표 준비 //  - 내일 오전 "
   ]
  },
  {
   "cell_type": "code",
   "execution_count": 17,
   "metadata": {},
   "outputs": [],
   "source": [
    "import torch\n",
    "import torch.nn as nn\n",
    "import torch.nn.functional as F\n",
    "import torch.optim as optim\n",
    "from torchvision import datasets, transforms, models\n",
    "import matplotlib.pyplot as plt\n",
    "import pandas as pd"
   ]
  },
  {
   "cell_type": "code",
   "execution_count": 18,
   "metadata": {},
   "outputs": [
    {
     "name": "stdout",
     "output_type": "stream",
     "text": [
      "CUDA(GPU)를 사용할 수 없으므로, CPU를 사용합니다.\n"
     ]
    }
   ],
   "source": [
    "if torch.cuda.is_available():\n",
    "    device = torch.device(\"cuda\")\n",
    "    print(\"CUDA(GPU)를 사용합니다.\")\n",
    "else:\n",
    "    device = torch.device(\"cpu\")\n",
    "    print(\"CUDA(GPU)를 사용할 수 없으므로, CPU를 사용합니다.\")"
   ]
  },
  {
   "cell_type": "code",
   "execution_count": 19,
   "metadata": {},
   "outputs": [],
   "source": [
    "# CIFAR10 데이터셋 로드 및 전처리\n",
    "transform = transforms.Compose([\n",
    "    transforms.ToTensor(),\n",
    "    transforms.Resize((64, 64)),\n",
    "    transforms.Normalize([0.6580, 0.6161, 0.5856], [0.2715, 0.2830, 0.2974]) # 알려진 CIFAR10의 평균과 표준편차\n",
    "])\n",
    "\n",
    "# 데이터셋 불러오기\n",
    "garbage_dataset = datasets.ImageFolder(root=\"./archive02/garbage_classification\", transform=transform)\n",
    "# DataLoader를 사용하여 이미지 데이터를 배치 단위로 불러올 수 있음\n",
    "# garbage_loader = torch.utils.data.DataLoader(garbage_dataset, batch_size=1, shuffle=False)\n",
    "\n",
    "total_size = len(garbage_dataset)\n",
    "# 훈련 세트의 비율 설정\n",
    "train_ratio = 0.8\n",
    "\n",
    "# 훈련 세트와 테스트 세트로 나누기\n",
    "train_size = int(train_ratio * total_size)\n",
    "test_size = total_size - train_size\n",
    "train_dataset, test_dataset = torch.utils.data.random_split(garbage_dataset, [train_size, test_size])\n",
    "\n",
    "# 훈련과 테스트 데이터로더 생성\n",
    "train_loader = torch.utils.data.DataLoader(train_dataset, batch_size=256, shuffle=True)\n",
    "test_loader = torch.utils.data.DataLoader(test_dataset, batch_size=1000, shuffle=False)"
   ]
  },
  {
   "cell_type": "code",
   "execution_count": null,
   "metadata": {},
   "outputs": [],
   "source": [
    "from torchvision.transforms import RandomHorizontalFlip, RandomVerticalFlip\n",
    "\n",
    "transform_original = transforms.Compose([\n",
    "    transforms.ToTensor(),\n",
    "    transforms.Normalize([0.4913, 0.4821, 0.4465], [0.2470, 0.2434, 0.2615])\n",
    "])\n",
    "\n",
    "transform_horizontal_flip = transforms.Compose([\n",
    "    RandomHorizontalFlip(),\n",
    "    transforms.ToTensor(),\n",
    "    transforms.Normalize([0.4913, 0.4821, 0.4465], [0.2470, 0.2434, 0.2615])\n",
    "])\n",
    "\n",
    "transform_vertical_flip = transforms.Compose([\n",
    "    RandomVerticalFlip(),\n",
    "    transforms.ToTensor(),\n",
    "    transforms.Normalize([0.4913, 0.4821, 0.4465], [0.2470, 0.2434, 0.2615])\n",
    "])\n",
    "\n",
    "train_dataset_original = datasets.CIFAR10('./CIFAR10', train=True, download=True, transform=transform_original)\n",
    "train_dataset_horizontal_flip = datasets.CIFAR10('./CIFAR10', train=True, download=True, transform=transform_horizontal_flip)\n",
    "train_dataset_vertical_flip = datasets.CIFAR10('./CIFAR10', train=True, download=True, transform=transform_vertical_flip)\n",
    "\n",
    "# 결합\n",
    "from torch.utils.data import ConcatDataset\n",
    "combined_dataset = ConcatDataset([train_dataset_original, train_dataset_horizontal_flip, train_dataset_vertical_flip])\n",
    "\n",
    "# 데이터 로더\n",
    "combined_loader = torch.utils.data.DataLoader(combined_dataset, batch_size=128, shuffle=True)"
   ]
  },
  {
   "cell_type": "code",
   "execution_count": 20,
   "metadata": {},
   "outputs": [],
   "source": [
    "### basic ###\n",
    "class myVggNet(nn.Module):\n",
    "    def __init__(self):\n",
    "        super(myVggNet, self).__init__()\n",
    "        # vgg16 모델 로드\n",
    "        self.vggnet = models.vgg19()\n",
    "        # 출력 레이어를 클래스 수에 맞게 조정\n",
    "        num_ftrs = self.vggnet.classifier[6].in_features\n",
    "        self.vggnet.classifier[6].in_features = nn.Linear(num_ftrs, 12)\n",
    "\n",
    "    def forward(self, x):\n",
    "        return self.vggnet(x)"
   ]
  },
  {
   "cell_type": "code",
   "execution_count": 23,
   "metadata": {},
   "outputs": [],
   "source": [
    "# 훈련 함수    \n",
    "\n",
    "def train(model, train_loader, optimizer, epoch):\n",
    "    \n",
    "    model.train()\n",
    "    train_loss = 0\n",
    "    correct = 0\n",
    "    total = 0\n",
    "    for data, target in train_loader:\n",
    "        if torch.cuda.is_available():\n",
    "            data, target = data.to(device), target.to(device)\n",
    "        optimizer.zero_grad()\n",
    "        output = model(data)\n",
    "        loss = criterion(output, target)\n",
    "        train_loss += loss.item()\n",
    "        loss.backward()\n",
    "        optimizer.step()\n",
    "\n",
    "    # 예측값 계산(가장 높은 값을 가진 인덱스)\n",
    "    _, predicted = torch.max(output.data, 1)\n",
    "    total += target.size(0)\n",
    "    # 올바르게 예측된 샘플의 수 업데이트\n",
    "    correct += (predicted == target).sum().item()\n",
    "\n",
    "    # 평균 훈련 손실 계산\n",
    "    train_loss /= len(train_loader)\n",
    "    train_losses.append(train_loss)\n",
    "    print(f'Epoch {epoch}, Training loss: {train_loss:.4f}')\n",
    "    accuracy = 100. * correct / total\n",
    "    train_accuracies.append(accuracy)"
   ]
  },
  {
   "cell_type": "code",
   "execution_count": 24,
   "metadata": {},
   "outputs": [],
   "source": [
    "# 테스트 함수\n",
    "def test(model, test_loader):\n",
    "    model.eval()\n",
    "    test_loss = 0\n",
    "    correct = 0\n",
    "    with torch.no_grad():\n",
    "        for data, target in test_loader:\n",
    "            if torch.cuda.is_available():\n",
    "                data, target = data.to(device), target.to(device)\n",
    "            output = model(data)\n",
    "            test_loss += criterion(output, target).item()\n",
    "            pred = output.argmax(dim=1, keepdim=True)\n",
    "            correct += pred.eq(target.view_as(pred)).sum().item()\n",
    "    test_loss /= len(test_loader)\n",
    "    accuracy = 100. * correct / len(test_loader.dataset)\n",
    "    test_losses.append(test_loss)\n",
    "    test_accuracies.append(accuracy)\n",
    "    print(f'Test loss: {test_loss:.4f}, Accuracy: {accuracy:.2f}%')"
   ]
  },
  {
   "cell_type": "markdown",
   "metadata": {},
   "source": [
    "# L2 0.001"
   ]
  },
  {
   "cell_type": "code",
   "execution_count": 21,
   "metadata": {},
   "outputs": [],
   "source": [
    "# 손실과 정확도를 저장하기 위한 리스트 초기화\n",
    "train_losses = []\n",
    "test_losses = []\n",
    "train_accuracies = []\n",
    "test_accuracies = []"
   ]
  },
  {
   "cell_type": "code",
   "execution_count": 22,
   "metadata": {},
   "outputs": [],
   "source": [
    "# batchsize 256, 128, lr: 0.0001\n",
    "# vgg19\n",
    "# optimizer: adam\n",
    "# 훈련 및 테스트 실행\n",
    "\n",
    "\n",
    "### L2 정규화 추가 ###\n",
    "\n",
    "model = myVggNet().to(device)\n",
    "criterion = nn.CrossEntropyLoss()\n",
    "optimizer = optim.Adam(model.parameters(), lr=0.0001, weight_decay = 0.001)"
   ]
  },
  {
   "cell_type": "code",
   "execution_count": 25,
   "metadata": {},
   "outputs": [
    {
     "name": "stdout",
     "output_type": "stream",
     "text": [
      "Epoch 1, Training loss: 2.7221\n",
      "Test loss: 1.9517, Accuracy: 38.48%\n",
      "Epoch 2, Training loss: 1.8866\n",
      "Test loss: 1.6668, Accuracy: 43.35%\n",
      "Epoch 3, Training loss: 1.5846\n",
      "Test loss: 1.3865, Accuracy: 48.98%\n",
      "Epoch 4, Training loss: 1.3786\n",
      "Test loss: 1.3031, Accuracy: 53.53%\n",
      "Epoch 5, Training loss: 1.2062\n",
      "Test loss: 1.1010, Accuracy: 62.71%\n"
     ]
    }
   ],
   "source": [
    "for epoch in range(1, 21):\n",
    "    train(model, train_loader, optimizer, epoch)\n",
    "    test(model, test_loader)"
   ]
  },
  {
   "cell_type": "code",
   "execution_count": null,
   "metadata": {},
   "outputs": [],
   "source": [
    "import matplotlib.pyplot as plt\n",
    "\n",
    "# 손실 및 정확도 시각화\n",
    "fig, axs = plt.subplots(2, 1, figsize=(10, 10))\n",
    "\n",
    "axs[0].plot(train_losses, label='Training Loss')\n",
    "axs[0].plot(test_losses, label='Test Loss')\n",
    "axs[0].set_xlabel('Epoch')\n",
    "axs[0].set_ylabel('Loss')\n",
    "axs[0].legend()\n",
    "axs[0].set_title('Training and Test Loss')\n",
    "\n",
    "axs[1].plot(train_accuracies, label='Training Accuracy', color='blue')\n",
    "axs[1].plot(test_accuracies, label='Test Accuracy', color='orange')\n",
    "axs[1].set_xlabel('Epoch')\n",
    "axs[1].set_ylabel('Accuracy (%)')\n",
    "axs[1].legend()\n",
    "axs[1].set_title('Training and Test Accuracy')\n",
    "\n",
    "plt.tight_layout()\n",
    "plt.show()"
   ]
  },
  {
   "cell_type": "markdown",
   "metadata": {},
   "source": [
    "# L2 0.0005"
   ]
  },
  {
   "cell_type": "code",
   "execution_count": null,
   "metadata": {},
   "outputs": [],
   "source": [
    "train_losses = []\n",
    "test_losses = []\n",
    "train_accuracies = []\n",
    "test_accuracies = []"
   ]
  },
  {
   "cell_type": "code",
   "execution_count": null,
   "metadata": {},
   "outputs": [],
   "source": [
    "model = myVggNet().to(device)\n",
    "criterion = nn.CrossEntropyLoss()\n",
    "optimizer = optim.Adam(model.parameters(), lr=0.0001, weight_decay = 0.0005)"
   ]
  },
  {
   "cell_type": "code",
   "execution_count": null,
   "metadata": {},
   "outputs": [],
   "source": [
    "for epoch in range(1, 21):\n",
    "    train(model, train_loader, optimizer, epoch)\n",
    "    test(model, test_loader)"
   ]
  },
  {
   "cell_type": "code",
   "execution_count": null,
   "metadata": {},
   "outputs": [],
   "source": [
    "import matplotlib.pyplot as plt\n",
    "\n",
    "# 손실 및 정확도 시각화\n",
    "fig, axs = plt.subplots(2, 1, figsize=(10, 10))\n",
    "\n",
    "axs[0].plot(train_losses, label='Training Loss')\n",
    "axs[0].plot(test_losses, label='Test Loss')\n",
    "axs[0].set_xlabel('Epoch')\n",
    "axs[0].set_ylabel('Loss')\n",
    "axs[0].legend()\n",
    "axs[0].set_title('Training and Test Loss')\n",
    "\n",
    "axs[1].plot(train_accuracies, label='Training Accuracy', color='blue')\n",
    "axs[1].plot(test_accuracies, label='Test Accuracy', color='orange')\n",
    "axs[1].set_xlabel('Epoch')\n",
    "axs[1].set_ylabel('Accuracy (%)')\n",
    "axs[1].legend()\n",
    "axs[1].set_title('Training and Test Accuracy')\n",
    "\n",
    "plt.tight_layout()\n",
    "plt.show()"
   ]
  },
  {
   "cell_type": "markdown",
   "metadata": {},
   "source": [
    "# L2 0.00025"
   ]
  },
  {
   "cell_type": "code",
   "execution_count": null,
   "metadata": {},
   "outputs": [],
   "source": [
    "train_losses = []\n",
    "test_losses = []\n",
    "train_accuracies = []\n",
    "test_accuracies = []"
   ]
  },
  {
   "cell_type": "code",
   "execution_count": null,
   "metadata": {},
   "outputs": [],
   "source": [
    "model = myVggNet().to(device)\n",
    "criterion = nn.CrossEntropyLoss()\n",
    "optimizer = optim.Adam(model.parameters(), lr=0.0001, weight_decay = 0.00025)"
   ]
  },
  {
   "cell_type": "code",
   "execution_count": null,
   "metadata": {},
   "outputs": [],
   "source": [
    "for epoch in range(1, 21):\n",
    "    train(model, train_loader, optimizer, epoch)\n",
    "    test(model, test_loader)"
   ]
  },
  {
   "cell_type": "code",
   "execution_count": null,
   "metadata": {},
   "outputs": [],
   "source": [
    "import matplotlib.pyplot as plt\n",
    "\n",
    "# 손실 및 정확도 시각화\n",
    "fig, axs = plt.subplots(2, 1, figsize=(10, 10))\n",
    "\n",
    "axs[0].plot(train_losses, label='Training Loss')\n",
    "axs[0].plot(test_losses, label='Test Loss')\n",
    "axs[0].set_xlabel('Epoch')\n",
    "axs[0].set_ylabel('Loss')\n",
    "axs[0].legend()\n",
    "axs[0].set_title('Training and Test Loss')\n",
    "\n",
    "axs[1].plot(train_accuracies, label='Training Accuracy', color='blue')\n",
    "axs[1].plot(test_accuracies, label='Test Accuracy', color='orange')\n",
    "axs[1].set_xlabel('Epoch')\n",
    "axs[1].set_ylabel('Accuracy (%)')\n",
    "axs[1].legend()\n",
    "axs[1].set_title('Training and Test Accuracy')\n",
    "\n",
    "plt.tight_layout()\n",
    "plt.show()"
   ]
  },
  {
   "cell_type": "markdown",
   "metadata": {},
   "source": [
    "# L2 0.0001"
   ]
  },
  {
   "cell_type": "code",
   "execution_count": null,
   "metadata": {},
   "outputs": [],
   "source": [
    "train_losses = []\n",
    "test_losses = []\n",
    "train_accuracies = []\n",
    "test_accuracies = []"
   ]
  },
  {
   "cell_type": "code",
   "execution_count": null,
   "metadata": {},
   "outputs": [],
   "source": [
    "model = myVggNet().to(device)\n",
    "criterion = nn.CrossEntropyLoss()\n",
    "optimizer = optim.Adam(model.parameters(), lr=0.0001, weight_decay = 0.0001)"
   ]
  },
  {
   "cell_type": "code",
   "execution_count": null,
   "metadata": {},
   "outputs": [],
   "source": [
    "import matplotlib.pyplot as plt\n",
    "\n",
    "# 손실 및 정확도 시각화\n",
    "fig, axs = plt.subplots(2, 1, figsize=(10, 10))\n",
    "\n",
    "axs[0].plot(train_losses, label='Training Loss')\n",
    "axs[0].plot(test_losses, label='Test Loss')\n",
    "axs[0].set_xlabel('Epoch')\n",
    "axs[0].set_ylabel('Loss')\n",
    "axs[0].legend()\n",
    "axs[0].set_title('Training and Test Loss')\n",
    "\n",
    "axs[1].plot(train_accuracies, label='Training Accuracy', color='blue')\n",
    "axs[1].plot(test_accuracies, label='Test Accuracy', color='orange')\n",
    "axs[1].set_xlabel('Epoch')\n",
    "axs[1].set_ylabel('Accuracy (%)')\n",
    "axs[1].legend()\n",
    "axs[1].set_title('Training and Test Accuracy')\n",
    "\n",
    "plt.tight_layout()\n",
    "plt.show()"
   ]
  },
  {
   "cell_type": "code",
   "execution_count": null,
   "metadata": {},
   "outputs": [],
   "source": []
  }
 ],
 "metadata": {
  "kernelspec": {
   "display_name": "kdt7",
   "language": "python",
   "name": "python3"
  },
  "language_info": {
   "codemirror_mode": {
    "name": "ipython",
    "version": 3
   },
   "file_extension": ".py",
   "mimetype": "text/x-python",
   "name": "python",
   "nbconvert_exporter": "python",
   "pygments_lexer": "ipython3",
   "version": "3.11.9"
  }
 },
 "nbformat": 4,
 "nbformat_minor": 2
}
