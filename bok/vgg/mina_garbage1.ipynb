{
 "cells": [
  {
   "cell_type": "markdown",
   "metadata": {},
   "source": [
    "vgg + adam 모델 튜닝    - 오늘 5시 50분\n",
    "\n",
    "모델 붙이기             - 내일 오전    ==> 디코딩 구현, //test data 출력//\n",
    "\n",
    "ppt 자료, 발표 준비 //  - 내일 오전 "
   ]
  },
  {
   "cell_type": "code",
   "execution_count": 1,
   "metadata": {},
   "outputs": [],
   "source": [
    "import torch\n",
    "import torch.nn as nn\n",
    "import torch.nn.functional as F\n",
    "import torch.optim as optim\n",
    "from torchvision import datasets, transforms, models\n",
    "from torchvision.transforms import RandomHorizontalFlip, RandomVerticalFlip\n",
    "import matplotlib.pyplot as plt\n",
    "import pandas as pd"
   ]
  },
  {
   "cell_type": "code",
   "execution_count": 2,
   "metadata": {},
   "outputs": [
    {
     "name": "stdout",
     "output_type": "stream",
     "text": [
      "CUDA(GPU)를 사용합니다.\n"
     ]
    }
   ],
   "source": [
    "if torch.cuda.is_available():\n",
    "    device = torch.device(\"cuda\")\n",
    "    print(\"CUDA(GPU)를 사용합니다.\")\n",
    "else:\n",
    "    device = torch.device(\"cpu\")\n",
    "    print(\"CUDA(GPU)를 사용할 수 없으므로, CPU를 사용합니다.\")"
   ]
  },
  {
   "cell_type": "code",
   "execution_count": 3,
   "metadata": {},
   "outputs": [],
   "source": [
    "# CIFAR10 데이터셋 로드 및 전처리\n",
    "transform = transforms.Compose([\n",
    "    transforms.ToTensor(),\n",
    "    transforms.Resize((64, 64)),\n",
    "    transforms.Normalize([0.6580, 0.6161, 0.5856], [0.2715, 0.2830, 0.2974]) # 알려진 CIFAR10의 평균과 표준편차\n",
    "])\n",
    "transform_horizontal_flip = transforms.Compose([\n",
    "    RandomHorizontalFlip(),\n",
    "    transforms.ToTensor(),\n",
    "    transforms.Resize((64, 64)),\n",
    "    transforms.Normalize([0.4913, 0.4821, 0.4465], [0.2470, 0.2434, 0.2615])\n",
    "])\n",
    "\n",
    "transform_vertical_flip = transforms.Compose([\n",
    "    RandomVerticalFlip(),\n",
    "    transforms.ToTensor(),\n",
    "    transforms.Resize((64, 64)),\n",
    "    transforms.Normalize([0.4913, 0.4821, 0.4465], [0.2470, 0.2434, 0.2615])\n",
    "])\n",
    "\n",
    "# 데이터셋 불러오기\n",
    "garbage_dataset = datasets.ImageFolder(root=\"./garbage_classification\", transform=transform)\n",
    "garbage_dataset_horizontal_flip = datasets.ImageFolder(root=\"./garbage_classification\", transform=transform_horizontal_flip)\n",
    "garbage_dataset_vertical_flip = datasets.ImageFolder(root=\"./garbage_classification\", transform=transform_vertical_flip)\n",
    "\n",
    "# 결합\n",
    "from torch.utils.data import ConcatDataset\n",
    "combined_dataset = ConcatDataset([garbage_dataset, garbage_dataset_horizontal_flip, garbage_dataset_vertical_flip])\n",
    "\n",
    "total_size = len(combined_dataset)\n",
    "# 훈련 세트의 비율 설정\n",
    "train_ratio = 0.8\n",
    "\n",
    "# 훈련 세트와 테스트 세트로 나누기\n",
    "train_size = int(train_ratio * total_size)\n",
    "test_size = total_size - train_size\n",
    "train_dataset, test_dataset = torch.utils.data.random_split(combined_dataset, [train_size, test_size])\n",
    "\n",
    "# 훈련과 테스트 데이터로더 생성\n",
    "train_loader = torch.utils.data.DataLoader(train_dataset, batch_size=256, shuffle=True)\n",
    "test_loader = torch.utils.data.DataLoader(test_dataset, batch_size=128, shuffle=False)\n",
    "\n",
    "# train_loader = torch.utils.data.DataLoader(train_dataset, batch_size=256, shuffle=True)\n",
    "# test_loader = torch.utils.data.DataLoader(test_dataset, batch_size=1000, shuffle=False)"
   ]
  },
  {
   "cell_type": "code",
   "execution_count": 4,
   "metadata": {},
   "outputs": [],
   "source": [
    "### basic ###\n",
    "\n",
    "class myVggNet(nn.Module):\n",
    "    def __init__(self):\n",
    "        super(myVggNet, self).__init__()\n",
    "        # vgg16 모델 로드\n",
    "        self.vggnet = models.vgg19()\n",
    "        # 출력 레이어를 클래스 수에 맞게 조정\n",
    "        num_ftrs = self.vggnet.classifier[6].in_features\n",
    "        self.vggnet.classifier[6].in_features = nn.Linear(num_ftrs, 12)\n",
    "\n",
    "    def forward(self, x):\n",
    "        return self.vggnet(x)"
   ]
  },
  {
   "cell_type": "code",
   "execution_count": 9,
   "metadata": {},
   "outputs": [],
   "source": [
    "class myVggNet(nn.Module):\n",
    "    def __init__(self):\n",
    "        super(myVggNet, self).__init__()\n",
    "        # vgg16 모델 로드\n",
    "        self.vggnet = models.vgg19()\n",
    "        # 출력 레이어를 클래스 수에 맞게 조정\n",
    "        num_ftrs = self.vggnet.classifier[6].in_features\n",
    "        self.vggnet.classifier[6].in_features = nn.Linear(num_ftrs, 12)\n",
    "        self.dropout = nn.Dropout(0.5)\n",
    "\n",
    "    def forward(self, x):\n",
    "        x = self.vggnet.features(x)\n",
    "        x = self.vggnet.avgpool(x)\n",
    "        x = torch.flatten(x, 1)\n",
    "        x = self.vggnet.classifier(x)\n",
    "        x = self.dropout(x)\n",
    "        return x"
   ]
  },
  {
   "cell_type": "code",
   "execution_count": 5,
   "metadata": {},
   "outputs": [],
   "source": [
    "# 손실과 정확도를 저장하기 위한 리스트 초기화\n",
    "train_losses = []\n",
    "test_losses = []\n",
    "train_accuracies = []\n",
    "test_accuracies = []"
   ]
  },
  {
   "cell_type": "code",
   "execution_count": 6,
   "metadata": {},
   "outputs": [],
   "source": [
    "model = myVggNet().to(device)\n",
    "criterion = nn.CrossEntropyLoss()\n",
    "optimizer = optim.Adam(model.parameters(), lr=0.0001)"
   ]
  },
  {
   "cell_type": "code",
   "execution_count": 7,
   "metadata": {},
   "outputs": [],
   "source": [
    "# 훈련 함수    \n",
    "def train(model, train_loader, optimizer, epoch):\n",
    "\n",
    "    \n",
    "    model.train()\n",
    "    train_loss = 0\n",
    "    correct = 0\n",
    "    total = 0\n",
    "    for data, target in train_loader:\n",
    "        if torch.cuda.is_available():\n",
    "            data, target = data.to(device), target.to(device)\n",
    "        optimizer.zero_grad()\n",
    "        output = model(data)\n",
    "        loss = criterion(output, target)\n",
    "        train_loss += loss.item()\n",
    "        loss.backward()\n",
    "        optimizer.step()\n",
    "\n",
    "    # 예측값 계산(가장 높은 값을 가진 인덱스)\n",
    "    _, predicted = torch.max(output.data, 1)\n",
    "    total += target.size(0)\n",
    "    # 올바르게 예측된 샘플의 수 업데이트\n",
    "    correct += (predicted == target).sum().item()\n",
    "\n",
    "    # 평균 훈련 손실 계산\n",
    "    train_loss /= len(train_loader)\n",
    "    train_losses.append(train_loss)\n",
    "    print(f'Epoch {epoch}, Training loss: {train_loss:.4f}')\n",
    "    accuracy = 100. * correct / total\n",
    "    train_accuracies.append(accuracy)"
   ]
  },
  {
   "cell_type": "code",
   "execution_count": 8,
   "metadata": {},
   "outputs": [],
   "source": [
    "# 테스트 함수\n",
    "def test(model, test_loader):\n",
    "    model.eval()\n",
    "    test_loss = 0\n",
    "    correct = 0\n",
    "    with torch.no_grad():\n",
    "        for data, target in test_loader:\n",
    "            if torch.cuda.is_available():\n",
    "                data, target = data.to(device), target.to(device)\n",
    "            output = model(data)\n",
    "            test_loss += criterion(output, target).item()\n",
    "            pred = output.argmax(dim=1, keepdim=True)\n",
    "            correct += pred.eq(target.view_as(pred)).sum().item()\n",
    "    test_loss /= len(test_loader)\n",
    "    accuracy = 100. * correct / len(test_loader.dataset)\n",
    "    test_losses.append(test_loss)\n",
    "    test_accuracies.append(accuracy)\n",
    "    print(f'Test loss: {test_loss:.4f}, Accuracy: {accuracy:.2f}%')"
   ]
  },
  {
   "cell_type": "code",
   "execution_count": 9,
   "metadata": {},
   "outputs": [
    {
     "name": "stderr",
     "output_type": "stream",
     "text": [
      "c:\\Users\\lma00\\anaconda3\\lib\\site-packages\\torchvision\\transforms\\functional.py:1603: UserWarning: The default value of the antialias parameter of all the resizing transforms (Resize(), RandomResizedCrop(), etc.) will change from None to True in v0.17, in order to be consistent across the PIL and Tensor backends. To suppress this warning, directly pass antialias=True (recommended, future default), antialias=None (current default, which means False for Tensors and True for PIL), or antialias=False (only works on Tensors - PIL will still use antialiasing). This also applies if you are using the inference transforms from the models weights: update the call to weights.transforms(antialias=True).\n",
      "  warnings.warn(\n"
     ]
    },
    {
     "name": "stdout",
     "output_type": "stream",
     "text": [
      "Epoch 1, Training loss: 2.1661\n",
      "Test loss: 1.4544, Accuracy: 51.11%\n",
      "Epoch 2, Training loss: 1.2722\n",
      "Test loss: 1.1122, Accuracy: 62.38%\n",
      "Epoch 3, Training loss: 0.9713\n",
      "Test loss: 0.8450, Accuracy: 72.06%\n",
      "Epoch 4, Training loss: 0.8355\n",
      "Test loss: 0.7486, Accuracy: 75.82%\n",
      "Epoch 5, Training loss: 0.7146\n",
      "Test loss: 0.6919, Accuracy: 76.86%\n",
      "Epoch 6, Training loss: 0.6255\n",
      "Test loss: 0.6606, Accuracy: 78.90%\n",
      "Epoch 7, Training loss: 0.5404\n",
      "Test loss: 0.5651, Accuracy: 81.77%\n",
      "Epoch 8, Training loss: 0.4753\n",
      "Test loss: 0.5430, Accuracy: 82.90%\n",
      "Epoch 9, Training loss: 0.3871\n",
      "Test loss: 0.4997, Accuracy: 84.05%\n",
      "Epoch 10, Training loss: 0.3325\n",
      "Test loss: 0.4383, Accuracy: 85.98%\n",
      "Epoch 11, Training loss: 0.2828\n",
      "Test loss: 0.4619, Accuracy: 86.08%\n",
      "Epoch 12, Training loss: 0.2424\n",
      "Test loss: 0.3660, Accuracy: 89.15%\n",
      "Epoch 13, Training loss: 0.2019\n",
      "Test loss: 0.3739, Accuracy: 88.61%\n",
      "Epoch 14, Training loss: 0.1705\n",
      "Test loss: 0.4118, Accuracy: 88.57%\n",
      "Epoch 15, Training loss: 0.1404\n",
      "Test loss: 0.3282, Accuracy: 90.95%\n",
      "Epoch 16, Training loss: 0.1212\n",
      "Test loss: 0.3569, Accuracy: 90.02%\n",
      "Epoch 17, Training loss: 0.1168\n",
      "Test loss: 0.4430, Accuracy: 87.93%\n",
      "Epoch 18, Training loss: 0.1002\n",
      "Test loss: 0.3258, Accuracy: 91.08%\n",
      "Epoch 19, Training loss: 0.0933\n",
      "Test loss: 0.3144, Accuracy: 91.01%\n",
      "Epoch 20, Training loss: 0.0794\n",
      "Test loss: 0.3282, Accuracy: 91.42%\n"
     ]
    }
   ],
   "source": [
    "for epoch in range(1, 21):\n",
    "    train(model, train_loader, optimizer, epoch)\n",
    "    test(model, test_loader)"
   ]
  },
  {
   "cell_type": "code",
   "execution_count": 10,
   "metadata": {},
   "outputs": [
    {
     "data": {
      "image/png": "[encoded data removed]",
      "text/plain": [
       "<Figure size 720x720 with 2 Axes>"
      ]
     },
     "metadata": {
      "needs_background": "light"
     },
     "output_type": "display_data"
    }
   ],
   "source": [
    "import matplotlib.pyplot as plt\n",
    "\n",
    "# 손실 및 정확도 시각화\n",
    "fig, axs = plt.subplots(2, 1, figsize=(10, 10))\n",
    "\n",
    "axs[0].plot(train_losses, label='Training Loss')\n",
    "axs[0].plot(test_losses, label='Test Loss')\n",
    "axs[0].set_xlabel('Epoch')\n",
    "axs[0].set_ylabel('Loss')\n",
    "axs[0].legend()\n",
    "axs[0].set_title('Training and Test Loss')\n",
    "\n",
    "axs[1].plot(train_accuracies, label='Training Accuracy', color='blue')\n",
    "axs[1].plot(test_accuracies, label='Test Accuracy', color='orange')\n",
    "axs[1].set_xlabel('Epoch')\n",
    "axs[1].set_ylabel('Accuracy (%)')\n",
    "axs[1].legend()\n",
    "axs[1].set_title('Training and Test Accuracy')\n",
    "\n",
    "plt.tight_layout()\n",
    "plt.show()"
   ]
  },
  {
   "cell_type": "code",
   "execution_count": 1,
   "metadata": {},
   "outputs": [],
   "source": [
    "import torch\n",
    "import torch.nn as nn\n",
    "import torch.nn.functional as F\n",
    "import torch.optim as optim\n",
    "from torchvision import datasets, transforms, models\n",
    "from torchvision.transforms import RandomHorizontalFlip, RandomVerticalFlip\n",
    "import matplotlib.pyplot as plt\n",
    "import pandas as pd"
   ]
  },
  {
   "cell_type": "code",
   "execution_count": 2,
   "metadata": {},
   "outputs": [
    {
     "name": "stdout",
     "output_type": "stream",
     "text": [
      "CUDA(GPU)를 사용합니다.\n"
     ]
    }
   ],
   "source": [
    "if torch.cuda.is_available():\n",
    "    device = torch.device(\"cuda\")\n",
    "    print(\"CUDA(GPU)를 사용합니다.\")\n",
    "else:\n",
    "    device = torch.device(\"cpu\")\n",
    "    print(\"CUDA(GPU)를 사용할 수 없으므로, CPU를 사용합니다.\")"
   ]
  },
  {
   "cell_type": "code",
   "execution_count": 3,
   "metadata": {},
   "outputs": [],
   "source": [
    "# CIFAR10 데이터셋 로드 및 전처리\n",
    "transform = transforms.Compose([\n",
    "    transforms.ToTensor(),\n",
    "    transforms.Resize((64, 64)),\n",
    "    transforms.Normalize([0.6580, 0.6161, 0.5856], [0.2715, 0.2830, 0.2974]) # 알려진 CIFAR10의 평균과 표준편차\n",
    "])\n",
    "transform_horizontal_flip = transforms.Compose([\n",
    "    RandomHorizontalFlip(),\n",
    "    transforms.ToTensor(),\n",
    "    transforms.Resize((64, 64)),\n",
    "    transforms.Normalize([0.4913, 0.4821, 0.4465], [0.2470, 0.2434, 0.2615])\n",
    "])\n",
    "\n",
    "transform_vertical_flip = transforms.Compose([\n",
    "    RandomVerticalFlip(),\n",
    "    transforms.ToTensor(),\n",
    "    transforms.Resize((64, 64)),\n",
    "    transforms.Normalize([0.4913, 0.4821, 0.4465], [0.2470, 0.2434, 0.2615])\n",
    "])\n",
    "transform_horizontal_vertical_flip = transforms.Compose([\n",
    "    RandomHorizontalFlip(),\n",
    "    RandomVerticalFlip(),\n",
    "    transforms.ToTensor(),\n",
    "    transforms.Resize((64, 64)),\n",
    "    transforms.Normalize([0.4913, 0.4821, 0.4465], [0.2470, 0.2434, 0.2615])\n",
    "])\n"
   ]
  },
  {
   "cell_type": "code",
   "execution_count": 4,
   "metadata": {},
   "outputs": [],
   "source": [
    "\n",
    "# 데이터셋 불러오기\n",
    "garbage_dataset = datasets.ImageFolder(root=\"./garbage_classification\", transform=transform)\n",
    "garbage_dataset_horizontal_flip = datasets.ImageFolder(root=\"./garbage_classification\", transform=transform_horizontal_flip)\n",
    "garbage_dataset_vertical_flip = datasets.ImageFolder(root=\"./garbage_classification\", transform=transform_vertical_flip)\n",
    "garbage_dataset_horizontal_vertical_flip = datasets.ImageFolder(root=\"./garbage_classification\", transform=transform_horizontal_vertical_flip)\n",
    "\n",
    "# 결합\n",
    "from torch.utils.data import ConcatDataset\n",
    "combined_dataset = ConcatDataset([garbage_dataset, garbage_dataset_horizontal_flip, garbage_dataset_vertical_flip, garbage_dataset_horizontal_vertical_flip])\n"
   ]
  },
  {
   "cell_type": "code",
   "execution_count": 5,
   "metadata": {},
   "outputs": [
    {
     "name": "stderr",
     "output_type": "stream",
     "text": [
      "c:\\Users\\lma00\\anaconda3\\lib\\site-packages\\torchvision\\transforms\\functional.py:1603: UserWarning: The default value of the antialias parameter of all the resizing transforms (Resize(), RandomResizedCrop(), etc.) will change from None to True in v0.17, in order to be consistent across the PIL and Tensor backends. To suppress this warning, directly pass antialias=True (recommended, future default), antialias=None (current default, which means False for Tensors and True for PIL), or antialias=False (only works on Tensors - PIL will still use antialiasing). This also applies if you are using the inference transforms from the models weights: update the call to weights.transforms(antialias=True).\n",
      "  warnings.warn(\n"
     ]
    }
   ],
   "source": [
    "import random\n",
    "import torch.utils.data\n",
    "\n",
    "def classwise_train_test_split(dataset, train_ratio=0.8):\n",
    "    # 클래스별로 인덱스를 저장할 딕셔너리 생성\n",
    "    class_indices = {}\n",
    "    for i in range(len(dataset)):\n",
    "        _, label = dataset[i]\n",
    "        if label not in class_indices:\n",
    "            class_indices[label] = []\n",
    "        class_indices[label].append(i)\n",
    "    \n",
    "    # 클래스별로 train과 test를 나누기 위한 인덱스를 저장할 딕셔너리 생성\n",
    "    train_indices = {}\n",
    "    test_indices = {}\n",
    "    for label, indices in class_indices.items():\n",
    "        n_train = int(len(indices) * train_ratio)\n",
    "        train_indices[label] = random.sample(indices, n_train)\n",
    "        test_indices[label] = list(set(indices) - set(train_indices[label]))\n",
    "    \n",
    "    # train과 test 데이터셋 생성\n",
    "    train_data = []\n",
    "    test_data = []\n",
    "    for label, indices in train_indices.items():\n",
    "        train_data.extend([(dataset[i][0], label) for i in indices])\n",
    "    for label, indices in test_indices.items():\n",
    "        test_data.extend([(dataset[i][0], label) for i in indices])\n",
    "    \n",
    "    # DataLoader 생성\n",
    "    train_loader = torch.utils.data.DataLoader(train_data, batch_size=256, shuffle=True)\n",
    "    test_loader = torch.utils.data.DataLoader(test_data, batch_size=128, shuffle=False)\n",
    "    \n",
    "    return train_loader, test_loader\n",
    "\n",
    "# 위에서 정의한 함수를 사용하여 train_loader와 test_loader 생성\n",
    "train_loader, test_loader = classwise_train_test_split(combined_dataset)\n"
   ]
  },
  {
   "cell_type": "code",
   "execution_count": null,
   "metadata": {},
   "outputs": [],
   "source": [
    "\n",
    "total_size = len(combined_dataset)\n",
    "# 훈련 세트의 비율 설정\n",
    "train_ratio = 0.8\n",
    "\n",
    "# 훈련 세트와 테스트 세트로 나누기\n",
    "train_size = int(train_ratio * total_size)\n",
    "test_size = total_size - train_size\n",
    "train_dataset, test_dataset = torch.utils.data.random_split(combined_dataset, [train_size, test_size])\n",
    "\n",
    "# 훈련과 테스트 데이터로더 생성\n",
    "train_loader = torch.utils.data.DataLoader(train_dataset, batch_size=256, shuffle=True)\n",
    "test_loader = torch.utils.data.DataLoader(test_dataset, batch_size=128, shuffle=False)\n",
    "\n",
    "# train_loader = torch.utils.data.DataLoader(train_dataset, batch_size=256, shuffle=True)\n",
    "# test_loader = torch.utils.data.DataLoader(test_dataset, batch_size=1000, shuffle=False)"
   ]
  },
  {
   "cell_type": "code",
   "execution_count": 6,
   "metadata": {},
   "outputs": [],
   "source": [
    "### basic ###\n",
    "\n",
    "class myVggNet(nn.Module):\n",
    "    def __init__(self):\n",
    "        super(myVggNet, self).__init__()\n",
    "        # vgg16 모델 로드\n",
    "        self.vggnet = models.vgg19()\n",
    "        # 출력 레이어를 클래스 수에 맞게 조정\n",
    "        num_ftrs = self.vggnet.classifier[6].in_features\n",
    "        self.vggnet.classifier[6].in_features = nn.Linear(num_ftrs, 12)\n",
    "\n",
    "    def forward(self, x):\n",
    "        return self.vggnet(x)"
   ]
  },
  {
   "cell_type": "code",
   "execution_count": 45,
   "metadata": {},
   "outputs": [],
   "source": [
    "class myVggNet(nn.Module):\n",
    "    def __init__(self):\n",
    "        super(myVggNet, self).__init__()\n",
    "        # vgg16 모델 로드\n",
    "        self.vggnet = models.vgg19()\n",
    "        # 출력 레이어를 클래스 수에 맞게 조정\n",
    "        num_ftrs = self.vggnet.classifier[6].in_features\n",
    "        self.vggnet.classifier[6].in_features = nn.Linear(num_ftrs, 12)\n",
    "        self.dropout = nn.Dropout(0.3)\n",
    "\n",
    "        self.input_size = self._get_input_size()\n",
    "\n",
    "        # Classifier 부분 수정\n",
    "        self.classifier = nn.Sequential(\n",
    "            nn.Linear(self.input_size, 4096),  # 수정 필요\n",
    "            nn.ReLU(True),\n",
    "            nn.Dropout(),\n",
    "            nn.Linear(4096, 4096),\n",
    "            nn.ReLU(True),\n",
    "            nn.Dropout(),\n",
    "            nn.Linear(4096, 12),\n",
    "        )\n",
    "    def _get_input_size(self):\n",
    "        # 랜덤 입력 데이터를 생성\n",
    "        x = torch.randn(1, 3, 224, 224)\n",
    "        x = self.vggnet.features(x)\n",
    "        x = F.max_pool2d(x, kernel_size=2, stride=2)\n",
    "        x = torch.flatten(x, 1)\n",
    "        return x.size(1)\n",
    "\n",
    "    def forward(self, x):\n",
    "        x = self.vggnet.features(x)\n",
    "        # x = self.vggnet.maxpool(x)\n",
    "        x = F.max_pool2d(x, kernel_size=2, stride=2)\n",
    "        x = torch.flatten(x, 1)\n",
    "        x = self.vggnet.classifier(x)\n",
    "        x = self.dropout(x)\n",
    "        return x"
   ]
  },
  {
   "cell_type": "code",
   "execution_count": 4,
   "metadata": {},
   "outputs": [],
   "source": [
    "class myVggNet(nn.Module):\n",
    "    def __init__(self):\n",
    "        super(myVggNet, self).__init__()\n",
    "        # vgg16 모델 로드\n",
    "        self.vggnet = models.vgg19()\n",
    "        # 출력 레이어를 클래스 수에 맞게 조정\n",
    "        num_ftrs = self.vggnet.classifier[6].in_features\n",
    "        self.vggnet.classifier[6].in_features = nn.Linear(num_ftrs, 12)\n",
    "        # self.maxpool = nn.MaxPool2d(kernel_size=2, stride=2)\n",
    "        self.dropout = nn.Dropout(0.3)\n",
    "\n",
    "    def forward(self, x):\n",
    "        x = self.vggnet.features(x)\n",
    "        # x = self.maxpool(x)\n",
    "        # x = F.max_pool2d(x, kernel_size=2, stride=2)\n",
    "        x = torch.flatten(x, 1)\n",
    "        x = self.vggnet.classifier(x)\n",
    "        x = self.dropout(x)\n",
    "        return x"
   ]
  },
  {
   "cell_type": "code",
   "execution_count": 7,
   "metadata": {},
   "outputs": [],
   "source": [
    "# 손실과 정확도를 저장하기 위한 리스트 초기화\n",
    "train_losses = []\n",
    "test_losses = []\n",
    "train_accuracies = []\n",
    "test_accuracies = []"
   ]
  },
  {
   "cell_type": "code",
   "execution_count": 8,
   "metadata": {},
   "outputs": [],
   "source": [
    "model = myVggNet().to(device)\n",
    "criterion = nn.CrossEntropyLoss()\n",
    "optimizer = optim.Adam(model.parameters(), lr=0.0001, weight_decay=0.0005)"
   ]
  },
  {
   "cell_type": "code",
   "execution_count": 9,
   "metadata": {},
   "outputs": [],
   "source": [
    "# 훈련 함수    \n",
    "def train(model, train_loader, optimizer, epoch):\n",
    "\n",
    "    \n",
    "    model.train()\n",
    "    train_loss = 0\n",
    "    correct = 0\n",
    "    total = 0\n",
    "    for data, target in train_loader:\n",
    "        if torch.cuda.is_available():\n",
    "            data, target = data.to(device), target.to(device)\n",
    "        optimizer.zero_grad()\n",
    "        output = model(data)\n",
    "        loss = criterion(output, target)\n",
    "        train_loss += loss.item()\n",
    "        loss.backward()\n",
    "        optimizer.step()\n",
    "\n",
    "    # 예측값 계산(가장 높은 값을 가진 인덱스)\n",
    "    _, predicted = torch.max(output.data, 1)\n",
    "    total += target.size(0)\n",
    "    # 올바르게 예측된 샘플의 수 업데이트\n",
    "    correct += (predicted == target).sum().item()\n",
    "\n",
    "    # 평균 훈련 손실 계산\n",
    "    train_loss /= len(train_loader)\n",
    "    train_losses.append(train_loss)\n",
    "    print(f'Epoch {epoch}, Training loss: {train_loss:.4f}')\n",
    "    accuracy = 100. * correct / total\n",
    "    train_accuracies.append(accuracy)"
   ]
  },
  {
   "cell_type": "code",
   "execution_count": 10,
   "metadata": {},
   "outputs": [],
   "source": [
    "# 테스트 함수\n",
    "def test(model, test_loader):\n",
    "    model.eval()\n",
    "    test_loss = 0\n",
    "    correct = 0\n",
    "    with torch.no_grad():\n",
    "        for data, target in test_loader:\n",
    "            if torch.cuda.is_available():\n",
    "                data, target = data.to(device), target.to(device)\n",
    "            output = model(data)\n",
    "            test_loss += criterion(output, target).item()\n",
    "            pred = output.argmax(dim=1, keepdim=True)\n",
    "            correct += pred.eq(target.view_as(pred)).sum().item()\n",
    "    test_loss /= len(test_loader)\n",
    "    accuracy = 100. * correct / len(test_loader.dataset)\n",
    "    test_losses.append(test_loss)\n",
    "    test_accuracies.append(accuracy)\n",
    "    print(f'Test loss: {test_loss:.4f}, Accuracy: {accuracy:.2f}%')"
   ]
  },
  {
   "cell_type": "code",
   "execution_count": 11,
   "metadata": {},
   "outputs": [
    {
     "ename": "KeyboardInterrupt",
     "evalue": "",
     "output_type": "error",
     "traceback": [
      "\u001b[1;31m---------------------------------------------------------------------------\u001b[0m",
      "\u001b[1;31mKeyboardInterrupt\u001b[0m                         Traceback (most recent call last)",
      "\u001b[1;32m<ipython-input-11-ed801903e372>\u001b[0m in \u001b[0;36m<module>\u001b[1;34m\u001b[0m\n\u001b[0;32m      1\u001b[0m \u001b[1;32mfor\u001b[0m \u001b[0mepoch\u001b[0m \u001b[1;32min\u001b[0m \u001b[0mrange\u001b[0m\u001b[1;33m(\u001b[0m\u001b[1;36m1\u001b[0m\u001b[1;33m,\u001b[0m \u001b[1;36m21\u001b[0m\u001b[1;33m)\u001b[0m\u001b[1;33m:\u001b[0m\u001b[1;33m\u001b[0m\u001b[1;33m\u001b[0m\u001b[0m\n\u001b[1;32m----> 2\u001b[1;33m     \u001b[0mtrain\u001b[0m\u001b[1;33m(\u001b[0m\u001b[0mmodel\u001b[0m\u001b[1;33m,\u001b[0m \u001b[0mtrain_loader\u001b[0m\u001b[1;33m,\u001b[0m \u001b[0moptimizer\u001b[0m\u001b[1;33m,\u001b[0m \u001b[0mepoch\u001b[0m\u001b[1;33m)\u001b[0m\u001b[1;33m\u001b[0m\u001b[1;33m\u001b[0m\u001b[0m\n\u001b[0m\u001b[0;32m      3\u001b[0m     \u001b[0mtest\u001b[0m\u001b[1;33m(\u001b[0m\u001b[0mmodel\u001b[0m\u001b[1;33m,\u001b[0m \u001b[0mtest_loader\u001b[0m\u001b[1;33m)\u001b[0m\u001b[1;33m\u001b[0m\u001b[1;33m\u001b[0m\u001b[0m\n",
      "\u001b[1;32m<ipython-input-9-d4180b34a729>\u001b[0m in \u001b[0;36mtrain\u001b[1;34m(model, train_loader, optimizer, epoch)\u001b[0m\n\u001b[0;32m      9\u001b[0m     \u001b[1;32mfor\u001b[0m \u001b[0mdata\u001b[0m\u001b[1;33m,\u001b[0m \u001b[0mtarget\u001b[0m \u001b[1;32min\u001b[0m \u001b[0mtrain_loader\u001b[0m\u001b[1;33m:\u001b[0m\u001b[1;33m\u001b[0m\u001b[1;33m\u001b[0m\u001b[0m\n\u001b[0;32m     10\u001b[0m         \u001b[1;32mif\u001b[0m \u001b[0mtorch\u001b[0m\u001b[1;33m.\u001b[0m\u001b[0mcuda\u001b[0m\u001b[1;33m.\u001b[0m\u001b[0mis_available\u001b[0m\u001b[1;33m(\u001b[0m\u001b[1;33m)\u001b[0m\u001b[1;33m:\u001b[0m\u001b[1;33m\u001b[0m\u001b[1;33m\u001b[0m\u001b[0m\n\u001b[1;32m---> 11\u001b[1;33m             \u001b[0mdata\u001b[0m\u001b[1;33m,\u001b[0m \u001b[0mtarget\u001b[0m \u001b[1;33m=\u001b[0m \u001b[0mdata\u001b[0m\u001b[1;33m.\u001b[0m\u001b[0mto\u001b[0m\u001b[1;33m(\u001b[0m\u001b[0mdevice\u001b[0m\u001b[1;33m)\u001b[0m\u001b[1;33m,\u001b[0m \u001b[0mtarget\u001b[0m\u001b[1;33m.\u001b[0m\u001b[0mto\u001b[0m\u001b[1;33m(\u001b[0m\u001b[0mdevice\u001b[0m\u001b[1;33m)\u001b[0m\u001b[1;33m\u001b[0m\u001b[1;33m\u001b[0m\u001b[0m\n\u001b[0m\u001b[0;32m     12\u001b[0m         \u001b[0moptimizer\u001b[0m\u001b[1;33m.\u001b[0m\u001b[0mzero_grad\u001b[0m\u001b[1;33m(\u001b[0m\u001b[1;33m)\u001b[0m\u001b[1;33m\u001b[0m\u001b[1;33m\u001b[0m\u001b[0m\n\u001b[0;32m     13\u001b[0m         \u001b[0moutput\u001b[0m \u001b[1;33m=\u001b[0m \u001b[0mmodel\u001b[0m\u001b[1;33m(\u001b[0m\u001b[0mdata\u001b[0m\u001b[1;33m)\u001b[0m\u001b[1;33m\u001b[0m\u001b[1;33m\u001b[0m\u001b[0m\n",
      "\u001b[1;31mKeyboardInterrupt\u001b[0m: "
     ]
    }
   ],
   "source": [
    "for epoch in range(1, 21):\n",
    "    train(model, train_loader, optimizer, epoch)\n",
    "    test(model, test_loader)"
   ]
  },
  {
   "cell_type": "code",
   "execution_count": null,
   "metadata": {},
   "outputs": [
    {
     "data": {
      "image/png": "[encoded data removed]",
      "text/plain": [
       "<Figure size 720x720 with 2 Axes>"
      ]
     },
     "metadata": {},
     "output_type": "display_data"
    }
   ],
   "source": [
    "import matplotlib.pyplot as plt\n",
    "\n",
    "# 손실 및 정확도 시각화\n",
    "fig, axs = plt.subplots(2, 1, figsize=(10, 10))\n",
    "\n",
    "axs[0].plot(train_losses, label='Training Loss')\n",
    "axs[0].plot(test_losses, label='Test Loss')\n",
    "axs[0].set_xlabel('Epoch')\n",
    "axs[0].set_ylabel('Loss')\n",
    "axs[0].legend()\n",
    "axs[0].set_title('Training and Test Loss')\n",
    "\n",
    "axs[1].plot(train_accuracies, label='Training Accuracy', color='blue')\n",
    "axs[1].plot(test_accuracies, label='Test Accuracy', color='orange')\n",
    "axs[1].set_xlabel('Epoch')\n",
    "axs[1].set_ylabel('Accuracy (%)')\n",
    "axs[1].legend()\n",
    "axs[1].set_title('Training and Test Accuracy')\n",
    "\n",
    "plt.tight_layout()\n",
    "plt.show()"
   ]
  },
  {
   "cell_type": "markdown",
   "metadata": {},
   "source": [
    "* 증강\n",
    "* L2 규제\n",
    "* dropout 수치 조정\n",
    "* batch 사이즈 조정\n",
    "* max pooling\n",
    "* 커널, stride 조정\n",
    "* "
   ]
  }
 ],
 "metadata": {
  "kernelspec": {
   "display_name": "kdt7",
   "language": "python",
   "name": "python3"
  },
  "language_info": {
   "codemirror_mode": {
    "name": "ipython",
    "version": 3
   },
   "file_extension": ".py",
   "mimetype": "text/x-python",
   "name": "python",
   "nbconvert_exporter": "python",
   "pygments_lexer": "ipython3",
   "version": "3.8.8"
  }
 },
 "nbformat": 4,
 "nbformat_minor": 2
}
